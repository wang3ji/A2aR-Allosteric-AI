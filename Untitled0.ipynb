{
  "nbformat": 4,
  "nbformat_minor": 0,
  "metadata": {
    "colab": {
      "provenance": [],
      "authorship_tag": "ABX9TyOcacUm7SV6yuGBo3C8Ljey",
      "include_colab_link": true
    },
    "kernelspec": {
      "name": "python3",
      "display_name": "Python 3"
    },
    "language_info": {
      "name": "python"
    }
  },
  "cells": [
    {
      "cell_type": "markdown",
      "metadata": {
        "id": "view-in-github",
        "colab_type": "text"
      },
      "source": [
        "<a href=\"https://colab.research.google.com/github/wang3ji/A2aR-Allosteric-AI/blob/main/Untitled0.ipynb\" target=\"_parent\"><img src=\"https://colab.research.google.com/assets/colab-badge.svg\" alt=\"Open In Colab\"/></a>"
      ]
    },
    {
      "cell_type": "code",
      "execution_count": null,
      "metadata": {
        "colab": {
          "base_uri": "https://localhost:8080/"
        },
        "id": "ykyGnO6KwaQb",
        "outputId": "c040c47b-da6a-4d29-c2de-586e0e6193fa"
      },
      "outputs": [
        {
          "output_type": "stream",
          "name": "stdout",
          "text": [
            "Requirement already satisfied: requests in /usr/local/lib/python3.12/dist-packages (2.32.4)\n",
            "Requirement already satisfied: pandas in /usr/local/lib/python3.12/dist-packages (2.2.2)\n",
            "Requirement already satisfied: charset_normalizer<4,>=2 in /usr/local/lib/python3.12/dist-packages (from requests) (3.4.3)\n",
            "Requirement already satisfied: idna<4,>=2.5 in /usr/local/lib/python3.12/dist-packages (from requests) (3.10)\n",
            "Requirement already satisfied: urllib3<3,>=1.21.1 in /usr/local/lib/python3.12/dist-packages (from requests) (2.5.0)\n",
            "Requirement already satisfied: certifi>=2017.4.17 in /usr/local/lib/python3.12/dist-packages (from requests) (2025.8.3)\n",
            "Requirement already satisfied: numpy>=1.26.0 in /usr/local/lib/python3.12/dist-packages (from pandas) (2.0.2)\n",
            "Requirement already satisfied: python-dateutil>=2.8.2 in /usr/local/lib/python3.12/dist-packages (from pandas) (2.9.0.post0)\n",
            "Requirement already satisfied: pytz>=2020.1 in /usr/local/lib/python3.12/dist-packages (from pandas) (2025.2)\n",
            "Requirement already satisfied: tzdata>=2022.7 in /usr/local/lib/python3.12/dist-packages (from pandas) (2025.2)\n",
            "Requirement already satisfied: six>=1.5 in /usr/local/lib/python3.12/dist-packages (from python-dateutil>=2.8.2->pandas) (1.17.0)\n"
          ]
        }
      ],
      "source": [
        "# 安装依赖\n",
        "!pip install requests pandas\n",
        "\n",
        "import requests\n",
        "import pandas as pd\n",
        "\n",
        "# A2aR 的 ChEMBL Target ID\n",
        "target_id = \"CHEMBL251\"\n",
        "\n",
        "# ChEMBL API\n",
        "base_url = \"https://www.ebi.ac.uk/chembl/api/data/activity.json\"\n",
        "\n",
        "params = {\n",
        "    \"target_chembl_id\": target_id,\n",
        "    \"limit\": 200\n",
        "}\n",
        "\n",
        "all_records = []\n",
        "offset = 0\n",
        "\n",
        "while True:\n",
        "    params[\"offset\"] = offset\n",
        "    response = requests.get(base_url, params=params)\n",
        "    if response.status_code != 200:\n",
        "        print(\"Error:\", response.status_code)\n",
        "        break\n",
        "    data = response.json()\n",
        "    activities = data.get(\"activities\", [])\n",
        "    if not activities:\n",
        "        break\n",
        "    all_records.extend(activities)\n",
        "    offset += params[\"limit\"]\n",
        "\n",
        "# 转换为 DataFrame\n",
        "df = pd.DataFrame(all_records)\n",
        "\n",
        "# 筛选核心字段\n",
        "df_filtered = df[[\n",
        "    \"molecule_chembl_id\", \"canonical_smiles\",\n",
        "    \"standard_type\", \"standard_relation\",\n",
        "    \"standard_value\", \"standard_units\"\n",
        "]]\n",
        "\n",
        "# 保存到 CSV\n",
        "df_filtered.to_csv(\"A2aR_ChEMBL_activities.csv\", index=False)\n",
        "\n",
        "print(\"✅ 共下载到\", len(df_filtered), \"条活性记录\")\n",
        "df_filtered.head(10)\n"
      ]
    }
  ]
}